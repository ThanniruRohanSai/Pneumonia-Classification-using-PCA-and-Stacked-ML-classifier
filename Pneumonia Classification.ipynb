{
 "cells": [
  {
   "cell_type": "code",
   "execution_count": 1,
   "id": "e5592623",
   "metadata": {},
   "outputs": [
    {
     "name": "stdout",
     "output_type": "stream",
     "text": [
      "Found 5216 images belonging to 2 classes.\n",
      "Shape of pca_images: (5216, 100)\n",
      "Number of labels: 5216\n"
     ]
    }
   ],
   "source": [
    "import os\n",
    "import cv2\n",
    "import numpy as np\n",
    "from sklearn.decomposition import PCA\n",
    "from keras.preprocessing.image import ImageDataGenerator\n",
    "\n",
    "data_dir = r\"C:\\Users\\Dell/Downloads/archive (2)/train\"\n",
    "image_size = (224, 224)\n",
    "\n",
    "num_components = 100\n",
    "images = []\n",
    "\n",
    "datagen = ImageDataGenerator(rescale=1./255)\n",
    "image_generator = datagen.flow_from_directory(\n",
    "    data_dir,\n",
    "    target_size=image_size,\n",
    "    batch_size=32,  \n",
    "    class_mode=None,  \n",
    "    shuffle=False  \n",
    ")\n",
    "\n",
    "for _ in range(image_generator.samples // image_generator.batch_size):\n",
    "    batch = image_generator.next()\n",
    "    images.extend(batch)\n",
    "images = np.array(images)\n",
    "\n",
    "images_flattened = images.reshape(images.shape[0], -1)\n",
    "\n",
    "pca = PCA(n_components=num_components)\n",
    "pca.fit(images_flattened)\n",
    "pca_images = pca.transform(images_flattened)\n",
    "labels = [\"Normal\"] * 1341 + [\"Pneumonia\"] * 3875\n",
    "\n",
    "print(\"Shape of pca_images:\", pca_images.shape)\n",
    "print(\"Number of labels:\", len(labels))"
   ]
  },
  {
   "cell_type": "code",
   "execution_count": 7,
   "id": "71348c41",
   "metadata": {},
   "outputs": [
    {
     "name": "stdout",
     "output_type": "stream",
     "text": [
      "Stacked Classifier Accuracy: 0.96\n"
     ]
    }
   ],
   "source": [
    "import numpy as np\n",
    "from sklearn.ensemble import RandomForestClassifier, StackingClassifier\n",
    "from sklearn.svm import SVC\n",
    "from sklearn.neighbors import KNeighborsClassifier\n",
    "from xgboost import XGBClassifier\n",
    "from sklearn.model_selection import train_test_split\n",
    "from sklearn.metrics import accuracy_score\n",
    "\n",
    "x_train, x_test, y_train, y_test = train_test_split(pca_images, labels, test_size=0.2, random_state=42)\n",
    "\n",
    "rf_classifier = RandomForestClassifier(n_estimators=100, random_state=42)\n",
    "xgb_classifier = XGBClassifier(random_state=42)\n",
    "svm_classifier = SVC(kernel='linear', C=1.0)\n",
    "knn_classifier = KNeighborsClassifier(n_neighbors=5)\n",
    "base_classifiers = [('rf', rf_classifier),('svm', svm_classifier), ('knn', knn_classifier), ('xgb', xgb_classifier)]\n",
    "stack_classifier = StackingClassifier(estimators=base_classifiers, final_estimator=RandomForestClassifier(n_estimators=100, random_state=42))\n",
    "stack_classifier.fit(x_train, y_train)\n",
    "y_pred = stack_classifier.predict(x_test)\n",
    "\n",
    "accuracy = accuracy_score(y_test, y_pred)\n",
    "print(f\"Stacked Classifier Accuracy: {accuracy:.2f}\")"
   ]
  },
  {
   "cell_type": "code",
   "execution_count": 9,
   "id": "c7c2afea",
   "metadata": {},
   "outputs": [
    {
     "name": "stdout",
     "output_type": "stream",
     "text": [
      "Stack Classifier model saved as 'stack_classifier_model.joblib'\n"
     ]
    }
   ],
   "source": [
    "import joblib\n",
    "\n",
    "model_filename = 'stack_classifier_model.joblib'\n",
    "joblib.dump(stack_classifier, model_filename)\n",
    "print(f\"Stack Classifier model saved as '{model_filename}'\")"
   ]
  },
  {
   "cell_type": "code",
   "execution_count": 22,
   "id": "ab2ffe24",
   "metadata": {},
   "outputs": [
    {
     "name": "stdout",
     "output_type": "stream",
     "text": [
      "Normal\n"
     ]
    }
   ],
   "source": [
    "from PIL import Image\n",
    "import numpy as np\n",
    "img_path = r\"C:\\Users\\Dell\\Downloads\\archive (2)\\train\\normal\\IM-0125-0001.jpeg\"\n",
    "img = Image.open(img_path)\n",
    "img = img.convert('L')\n",
    "img = img.resize((224, 224))\n",
    "img_array = np.array(img)\n",
    "img_vector = img_array.reshape(-1)\n",
    "from sklearn.decomposition import PCA\n",
    "num_components = min(100, img_vector.size)  \n",
    "pca = PCA(n_components=num_components)\n",
    "pca_image_vector = pca.fit_transform(img_array)\n",
    "import joblib\n",
    "model_filename = 'stack_classifier_model.joblib'  \n",
    "stack_classifier = joblib.load(model_filename)\n",
    "predictions = stack_classifier.predict(pca_image_vector)\n",
    "print(predictions[0])\n",
    "\n"
   ]
  },
  {
   "cell_type": "code",
   "execution_count": null,
   "id": "50f2f52f",
   "metadata": {},
   "outputs": [],
   "source": []
  }
 ],
 "metadata": {
  "kernelspec": {
   "display_name": "Python 3 (ipykernel)",
   "language": "python",
   "name": "python3"
  },
  "language_info": {
   "codemirror_mode": {
    "name": "ipython",
    "version": 3
   },
   "file_extension": ".py",
   "mimetype": "text/x-python",
   "name": "python",
   "nbconvert_exporter": "python",
   "pygments_lexer": "ipython3",
   "version": "3.11.4"
  }
 },
 "nbformat": 4,
 "nbformat_minor": 5
}
